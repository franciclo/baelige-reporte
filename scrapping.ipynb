{
 "cells": [
  {
   "cell_type": "code",
   "execution_count": 1,
   "metadata": {
    "collapsed": true,
    "scrolled": true
   },
   "outputs": [],
   "source": [
    "import pandas as pd\n",
    "import requests\n",
    "from bs4 import BeautifulSoup as soup\n",
    "from multiprocessing import Pool\n",
    "import time"
   ]
  },
  {
   "cell_type": "code",
   "execution_count": null,
   "metadata": {
    "collapsed": true,
    "scrolled": false
   },
   "outputs": [],
   "source": [
    "def getIds(page):\n",
    "    print page\n",
    "    url = \"https://baelige.buenosaires.gob.ar/budgets/1/investments?order=confidence_score&page={0}\".format(page)\n",
    "    r = requests.get(url, timeout=10)\n",
    "    if r.status_code == 200:\n",
    "        page_soup = soup(r.text,\"html.parser\")\n",
    "        propuestas = page_soup.findAll(\"div\",{\"class\":\"budget-investment-content\"})\n",
    "        apoyo = page_soup.findAll(\"span\",{\"class\":\"total-supports\"})\n",
    "        if propuestas is not None:\n",
    "            ids = [ p.find('h3').a['href'].split('/')[-1] for p in propuestas ]\n",
    "        if apoyo is not None:\n",
    "            apoyos = [ p.text.strip().split(\" \")[0] for p in apoyo]\n",
    "        time.sleep(3)\n",
    "        return {\"apoyos\":apoyos, \"id\":ids}\n",
    "\n",
    "# 2128\n",
    "\n",
    "p = Pool(10)\n",
    "records = p.map(getIds, range(1, 2128))\n",
    "\n",
    "if len(records) > 0:\n",
    "    propuestasDf = pd.DataFrame ({\n",
    "        \"id\": [y for x in records for y in x[\"id\"]],\n",
    "        \"apoyos\": [y for x in records for y in x[\"apoyos\"]]\n",
    "    })\n",
    "    propuestasDf[\"apoyos\"] = propuestasDf[\"apoyos\"].replace(to_replace=\"Sin\", value=0).astype(int)\n",
    "    propuestasDf.to_csv('baelige-ids-apoyos.csv', index=False, encoding='utf-8')"
   ]
  },
  {
   "cell_type": "code",
   "execution_count": 2,
   "metadata": {
    "collapsed": true
   },
   "outputs": [],
   "source": [
    "propuestasDf = pd.read_csv('baelige-ids-apoyos.csv')"
   ]
  },
  {
   "cell_type": "code",
   "execution_count": 3,
   "metadata": {
    "scrolled": false
   },
   "outputs": [
    {
     "ename": "ConnectionError",
     "evalue": "None: Max retries exceeded with url: /budgets/1/investments/6789 (Caused by None)",
     "output_type": "error",
     "traceback": [
      "\u001b[0;31m---------------------------------------------------------------------------\u001b[0m",
      "\u001b[0;31mConnectionError\u001b[0m                           Traceback (most recent call last)",
      "\u001b[0;32m<ipython-input-3-0e450003dae4>\u001b[0m in \u001b[0;36m<module>\u001b[0;34m()\u001b[0m\n\u001b[1;32m     44\u001b[0m \u001b[0mp\u001b[0m \u001b[0;34m=\u001b[0m \u001b[0mPool\u001b[0m\u001b[0;34m(\u001b[0m\u001b[0;36m10\u001b[0m\u001b[0;34m)\u001b[0m\u001b[0;34m\u001b[0m\u001b[0m\n\u001b[1;32m     45\u001b[0m \u001b[0mpdf\u001b[0m \u001b[0;34m=\u001b[0m \u001b[0mpropuestasDf\u001b[0m\u001b[0;34m\u001b[0m\u001b[0m\n\u001b[0;32m---> 46\u001b[0;31m \u001b[0mrecords\u001b[0m \u001b[0;34m=\u001b[0m \u001b[0mp\u001b[0m\u001b[0;34m.\u001b[0m\u001b[0mmap\u001b[0m\u001b[0;34m(\u001b[0m\u001b[0mgetPropuesta\u001b[0m\u001b[0;34m,\u001b[0m \u001b[0mzip\u001b[0m\u001b[0;34m(\u001b[0m\u001b[0mpdf\u001b[0m\u001b[0;34m[\u001b[0m\u001b[0;34m\"id\"\u001b[0m\u001b[0;34m]\u001b[0m\u001b[0;34m,\u001b[0m \u001b[0mpdf\u001b[0m\u001b[0;34m[\u001b[0m\u001b[0;34m\"apoyos\"\u001b[0m\u001b[0;34m]\u001b[0m\u001b[0;34m)\u001b[0m\u001b[0;34m)\u001b[0m\u001b[0;34m\u001b[0m\u001b[0m\n\u001b[0m\u001b[1;32m     47\u001b[0m \u001b[0;34m\u001b[0m\u001b[0m\n\u001b[1;32m     48\u001b[0m \u001b[0;32mif\u001b[0m \u001b[0mlen\u001b[0m\u001b[0;34m(\u001b[0m\u001b[0mrecords\u001b[0m\u001b[0;34m)\u001b[0m \u001b[0;34m>\u001b[0m \u001b[0;36m0\u001b[0m\u001b[0;34m:\u001b[0m\u001b[0;34m\u001b[0m\u001b[0m\n",
      "\u001b[0;32m/home/frn/anaconda2/lib/python2.7/multiprocessing/pool.pyc\u001b[0m in \u001b[0;36mmap\u001b[0;34m(self, func, iterable, chunksize)\u001b[0m\n\u001b[1;32m    249\u001b[0m         '''\n\u001b[1;32m    250\u001b[0m         \u001b[0;32massert\u001b[0m \u001b[0mself\u001b[0m\u001b[0;34m.\u001b[0m\u001b[0m_state\u001b[0m \u001b[0;34m==\u001b[0m \u001b[0mRUN\u001b[0m\u001b[0;34m\u001b[0m\u001b[0m\n\u001b[0;32m--> 251\u001b[0;31m         \u001b[0;32mreturn\u001b[0m \u001b[0mself\u001b[0m\u001b[0;34m.\u001b[0m\u001b[0mmap_async\u001b[0m\u001b[0;34m(\u001b[0m\u001b[0mfunc\u001b[0m\u001b[0;34m,\u001b[0m \u001b[0miterable\u001b[0m\u001b[0;34m,\u001b[0m \u001b[0mchunksize\u001b[0m\u001b[0;34m)\u001b[0m\u001b[0;34m.\u001b[0m\u001b[0mget\u001b[0m\u001b[0;34m(\u001b[0m\u001b[0;34m)\u001b[0m\u001b[0;34m\u001b[0m\u001b[0m\n\u001b[0m\u001b[1;32m    252\u001b[0m \u001b[0;34m\u001b[0m\u001b[0m\n\u001b[1;32m    253\u001b[0m     \u001b[0;32mdef\u001b[0m \u001b[0mimap\u001b[0m\u001b[0;34m(\u001b[0m\u001b[0mself\u001b[0m\u001b[0;34m,\u001b[0m \u001b[0mfunc\u001b[0m\u001b[0;34m,\u001b[0m \u001b[0miterable\u001b[0m\u001b[0;34m,\u001b[0m \u001b[0mchunksize\u001b[0m\u001b[0;34m=\u001b[0m\u001b[0;36m1\u001b[0m\u001b[0;34m)\u001b[0m\u001b[0;34m:\u001b[0m\u001b[0;34m\u001b[0m\u001b[0m\n",
      "\u001b[0;32m/home/frn/anaconda2/lib/python2.7/multiprocessing/pool.pyc\u001b[0m in \u001b[0;36mget\u001b[0;34m(self, timeout)\u001b[0m\n\u001b[1;32m    565\u001b[0m             \u001b[0;32mreturn\u001b[0m \u001b[0mself\u001b[0m\u001b[0;34m.\u001b[0m\u001b[0m_value\u001b[0m\u001b[0;34m\u001b[0m\u001b[0m\n\u001b[1;32m    566\u001b[0m         \u001b[0;32melse\u001b[0m\u001b[0;34m:\u001b[0m\u001b[0;34m\u001b[0m\u001b[0m\n\u001b[0;32m--> 567\u001b[0;31m             \u001b[0;32mraise\u001b[0m \u001b[0mself\u001b[0m\u001b[0;34m.\u001b[0m\u001b[0m_value\u001b[0m\u001b[0;34m\u001b[0m\u001b[0m\n\u001b[0m\u001b[1;32m    568\u001b[0m \u001b[0;34m\u001b[0m\u001b[0m\n\u001b[1;32m    569\u001b[0m     \u001b[0;32mdef\u001b[0m \u001b[0m_set\u001b[0m\u001b[0;34m(\u001b[0m\u001b[0mself\u001b[0m\u001b[0;34m,\u001b[0m \u001b[0mi\u001b[0m\u001b[0;34m,\u001b[0m \u001b[0mobj\u001b[0m\u001b[0;34m)\u001b[0m\u001b[0;34m:\u001b[0m\u001b[0;34m\u001b[0m\u001b[0m\n",
      "\u001b[0;31mConnectionError\u001b[0m: None: Max retries exceeded with url: /budgets/1/investments/6789 (Caused by None)"
     ]
    }
   ],
   "source": [
    "def getPropuesta(page):\n",
    "    url = \"https://baelige.buenosaires.gob.ar/budgets/1/investments/{0}\".format(page[0])\n",
    "    r = requests.get(url, timeout=10)\n",
    "    if r.status_code == 200:\n",
    "        page_soup = soup(r.text,\"html.parser\")\n",
    "        \n",
    "        column = page_soup.select(\".budget-investment-show .column\")[0]\n",
    "\n",
    "        titulo = column.select('h1')[0].text\n",
    "        descri = column.select('blockquote')[0].text\n",
    "        info = column.select('.budget-investment-info')[0].contents\n",
    "        comuna = info[8].strip()\n",
    "        fecha = info[6].strip()\n",
    "        tag = column.find(\"ul\",{\"class\":\"tags\"}).li.a.text\n",
    "        pid = column.find(\"p\",{\"id\":\"investment_code\"}).strong.text\n",
    "\n",
    "        content = \"\"\n",
    "        f = False\n",
    "        for e in column.children:\n",
    "            if f:\n",
    "                if e.name == \"p\":\n",
    "                    content += e.text\n",
    "            if e.name == \"ul\":\n",
    "                f = True\n",
    "\n",
    "        comentarios = page_soup.select(\".js-comments-count\")[0].text.replace(\"(\", \"\").replace(\")\", \"\")\n",
    "        \n",
    "        time.sleep(3)\n",
    "        \n",
    "        return {\n",
    "            \"titulo\": titulo,\n",
    "            \"descri\": descri,\n",
    "            \"content\": content,\n",
    "            \"tag\": tag,\n",
    "            \"comuna\": comuna,\n",
    "            \"fecha\": fecha,\n",
    "            \"comentarios\": comentarios,\n",
    "            \"apoyos\": page[1],\n",
    "            \"pid\": pid\n",
    "        }\n",
    "\n",
    "# # 2128\n",
    "\n",
    "p = Pool(10)\n",
    "pdf = propuestasDf\n",
    "records = p.map(getPropuesta, zip(pdf[\"id\"], pdf[\"apoyos\"]))\n",
    "\n",
    "if len(records) > 0:\n",
    "    pDf = pd.DataFrame ({\n",
    "        \"titulo\": [ x[\"titulo\"] for x in records],\n",
    "        \"resumen\": [ x[\"descri\"] for x in records],\n",
    "        \"content\": [ x[\"content\"] for x in records],\n",
    "        \"tag\": [ x[\"tag\"] for x in records],\n",
    "        \"comuna\": [ x[\"comuna\"] for x in records],\n",
    "        \"fecha\": [ x[\"fecha\"] for x in records],\n",
    "        \"comentarios\": [ x[\"comentarios\"] for x in records],\n",
    "        \"apoyos\": [ x[\"apoyos\"] for x in records],\n",
    "        \"pid\": [ x[\"pid\"] for x in records]\n",
    "    })\n",
    "    pDf.to_csv('baelige-propuestas.csv', index=False, encoding='utf-8')"
   ]
  },
  {
   "cell_type": "code",
   "execution_count": null,
   "metadata": {
    "collapsed": true,
    "scrolled": true
   },
   "outputs": [],
   "source": []
  }
 ],
 "metadata": {
  "kernelspec": {
   "display_name": "Python 2",
   "language": "python",
   "name": "python2"
  },
  "language_info": {
   "codemirror_mode": {
    "name": "ipython",
    "version": 2
   },
   "file_extension": ".py",
   "mimetype": "text/x-python",
   "name": "python",
   "nbconvert_exporter": "python",
   "pygments_lexer": "ipython2",
   "version": "2.7.13"
  }
 },
 "nbformat": 4,
 "nbformat_minor": 2
}
