{
 "cells": [
  {
   "cell_type": "markdown",
   "metadata": {},
   "source": [
    "# Procesamiento de datos del viejo y nuevo Congreso"
   ]
  },
  {
   "cell_type": "markdown",
   "metadata": {},
   "source": [
    "## Preparación\n",
    "\n",
    "Abrir las tablas de datos históricos del Directorio Legislativo (2000-2018).\n",
    "\n",
    "Crear columna con el nombre completo que concatene el campo nombre con el campo apellido y en base a el nombre eliminar duplicados."
   ]
  },
  {
   "cell_type": "code",
   "execution_count": 87,
   "metadata": {},
   "outputs": [],
   "source": [
    "import pandas as pd\n",
    "import unidecode\n",
    "import warnings\n",
    "warnings.filterwarnings('ignore')\n",
    "\n",
    "diputados = pd.read_csv('data/diputados_2000_2018.csv')\n",
    "diputados['nombre'] = diputados['diputado_nombre'] + \" \" + diputados['diputado_apellido']\n",
    "diputados['nombre'] = diputados['nombre'].apply(lambda x: unidecode.unidecode(x.decode('utf-8')).lower())\n",
    "diputados_todos = diputados.sort_values('diputado_mandatoFinal', ascending=False).groupby('nombre').first().reset_index()\n",
    "\n",
    "senadores = pd.read_csv('data/senadores_2000_2018.csv')\n",
    "senadores['nombre'] = senadores['datospersonales_nombre'] + \" \" + senadores['datospersonales_apellido']\n",
    "senadores['nombre'] = senadores['nombre'].apply(lambda x: unidecode.unidecode(x.decode('utf-8')).lower())\n",
    "senadores_todos = senadores.sort_values('datospersonales_mandatoFinal', ascending=False).groupby('nombre').first().reset_index()"
   ]
  },
  {
   "cell_type": "markdown",
   "metadata": {},
   "source": [
    "Abrir listado de precandidatos con corrección de nombres.\n",
    "\n",
    "Dado que en varios casos se omite el uso del segundo nombre, se hizo una corrección usando distancias de Levenshtein e indicando manualmente las coincidencias en [este archivo](https://docs.google.com/spreadsheets/d/1MYXn653RUNsCIba9UrASMbzlbJBx0YZYb0b8mPf1Tpc/edit#gid=0)."
   ]
  },
  {
   "cell_type": "code",
   "execution_count": 82,
   "metadata": {
    "scrolled": true
   },
   "outputs": [],
   "source": [
    "listas = pd.read_csv('data/nombres_legisladores_match.csv')\n",
    "\n",
    "listas['nombre_final'] = listas.apply(lambda x: x['result_l'] if x['misma_persona'] == 'Si' else x['nombre'], axis=1)"
   ]
  },
  {
   "cell_type": "markdown",
   "metadata": {},
   "source": [
    "Separar los legisladores vigentes de los del pasado a partir del año de su mandato final (2019 y 2021 para los diputados y 2019, 2021 y 2023 para senadores)."
   ]
  },
  {
   "cell_type": "code",
   "execution_count": 83,
   "metadata": {},
   "outputs": [],
   "source": [
    "diputados_vigente = diputados_todos[diputados_todos['diputado_mandatoFinal'].isin([2019, 2021])]\n",
    "diputados_pasado = diputados_todos[~diputados_todos['diputado_mandatoFinal'].isin([2019, 2021])]\n",
    "\n",
    "senadores_vigente = senadores_todos[senadores_todos['datospersonales_mandatoFinal'].isin([2019, 2021, 2023])]\n",
    "senadores_pasado = senadores_todos[~senadores_todos['datospersonales_mandatoFinal'].isin([2019, 2021, 2023])]"
   ]
  },
  {
   "cell_type": "markdown",
   "metadata": {},
   "source": [
    "## Grupos"
   ]
  },
  {
   "cell_type": "markdown",
   "metadata": {},
   "source": [
    "Marcar en los legisladores vigentes si renuevan fijandose si están presentes en el listado de precandidatos y marcar en los legisladores del pasado si vuelven fijandose lo mismo.\n",
    "\n",
    "A partir de esto se deduce que los que no renuevan y terminan mandato en 2019, se van."
   ]
  },
  {
   "cell_type": "code",
   "execution_count": 90,
   "metadata": {
    "scrolled": false
   },
   "outputs": [
    {
     "name": "stdout",
     "output_type": "stream",
     "text": [
      "Renuevan 48 diputados y 8 senadores\n",
      "Se van 101 diputados y 21 senadores\n",
      "Vuelven 32 diputados y 10 senadores\n"
     ]
    }
   ],
   "source": [
    "diputados_vigente['renueva'] = diputados_vigente['nombre'].isin(listas['nombre_final'])\n",
    "senadores_vigente['renueva'] = senadores_vigente['nombre'].isin(listas['nombre_final'])\n",
    "\n",
    "diputados_vigente['se_va'] = (~diputados_vigente['renueva']) & (diputados_vigente['diputado_mandatoFinal'] == 2019)\n",
    "senadores_vigente['se_va'] = (~senadores_vigente['renueva']) & (senadores_vigente['datospersonales_mandatoFinal'] == 2019)\n",
    "\n",
    "diputados_pasado['vuelve'] = diputados_pasado['nombre'].isin(listas['nombre_final'])\n",
    "senadores_pasado['vuelve'] = senadores_pasado['nombre'].isin(listas['nombre_final'])\n",
    "\n",
    "print('Renuevan {} diputados y {} senadores'.format(len(diputados_vigente[diputados_vigente['renueva']]), len(senadores_vigente[senadores_vigente['renueva']])))\n",
    "\n",
    "print('Se van {} diputados y {} senadores'.format(len(diputados_vigente[diputados_vigente['se_va']]), len(senadores_vigente[senadores_vigente['se_va']])))\n",
    "\n",
    "print('Vuelven {} diputados y {} senadores'.format(len(diputados_pasado[diputados_pasado['vuelve']]), len(senadores_pasado[senadores_pasado['vuelve']])))"
   ]
  },
  {
   "cell_type": "markdown",
   "metadata": {},
   "source": [
    "## Dimensiones\n",
    "\n",
    "Se evaluarán los grupos según las siguientes dimensiones:\n",
    "* Edad\n",
    "* Género\n",
    "* Nivel de estudios\n",
    "* Actividad privada previa\n",
    "* Actividad pública previa"
   ]
  }
 ],
 "metadata": {
  "kernelspec": {
   "display_name": "Python 2",
   "language": "python",
   "name": "python2"
  },
  "language_info": {
   "codemirror_mode": {
    "name": "ipython",
    "version": 2
   },
   "file_extension": ".py",
   "mimetype": "text/x-python",
   "name": "python",
   "nbconvert_exporter": "python",
   "pygments_lexer": "ipython2",
   "version": "2.7.15"
  }
 },
 "nbformat": 4,
 "nbformat_minor": 2
}
