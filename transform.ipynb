{
 "cells": [
  {
   "cell_type": "markdown",
   "metadata": {},
   "source": [
    "# Actividad legislativa vigente\n",
    "## Preprocesamiento"
   ]
  },
  {
   "cell_type": "code",
   "execution_count": 58,
   "metadata": {
    "scrolled": false
   },
   "outputs": [],
   "source": [
    "import pandas as pd\n",
    "import re\n",
    "import numpy as np\n",
    "import warnings\n",
    "warnings.filterwarnings('ignore')\n",
    "\n",
    "def sacaLegislatura(string):\n",
    "    if pd.isnull(string):\n",
    "        return ''\n",
    "    result = re.search('por la (.*) Legislatura', string)\n",
    "    return result.group(1)\n",
    "\n",
    "def sacaId(string):\n",
    "    if pd.isnull(string):\n",
    "        return ''\n",
    "    result = re.search('Referencia=(.*)&quot', string)\n",
    "    if not result:\n",
    "        return None\n",
    "    return result.group(1)\n",
    "\n",
    "def split(string, split_str, index):\n",
    "    if split_str not in string:\n",
    "        return string\n",
    "    if len(string.split(split_str)) < (index + 1):\n",
    "        return string\n",
    "    return string.split(split_str)[index]\n",
    "\n",
    "perfiles = pd.read_csv('data/perfiles.csv')\n",
    "\n",
    "perfiles = perfiles.dropna(how='all')\n",
    "perfiles = perfiles.fillna('')\n",
    "\n",
    "perfiles = perfiles[perfiles['links_Estatus'] == 'Activo'].reset_index()\n",
    "    \n",
    "perfiles['legislatura_actividad'] = perfiles['links_Actividad'].apply(sacaLegislatura)\n",
    "perfiles['sil_id'] = perfiles['links_url'].apply(lambda x: x.split('&Referencia=')[1]).astype(int)\n",
    "\n",
    "perfiles['nombre'] = perfiles['links_Nombre'].apply(lambda x: x.split(',')[1])\n",
    "perfiles['apellido'] = perfiles['links_Nombre'].apply(lambda x: x.split(',')[0])\n",
    "\n",
    "perfiles['suplente_nombre'] = perfiles['links_Suplente'].apply(lambda x: split(x, ',', 1))\n",
    "perfiles['suplente_apellido'] = perfiles['links_Suplente'].apply(lambda x: split(x, ',', 0))\n",
    "\n",
    "perfiles['fecha_nacimiento'] = perfiles['links_Nacimiento'].apply(lambda x: x.split('\\n')[0].replace('Fecha:', ''))\n",
    "perfiles['fecha_nacimiento'] = perfiles['fecha_nacimiento'].apply(lambda x: x if 'N/A' not in x else '')\n",
    "perfiles['entidad_nacimiento'] = perfiles['links_Nacimiento'].apply(lambda x: x.split('\\n')[1].replace('Entidad:', ''))\n",
    "perfiles['ciudad_nacimiento'] = perfiles['links_Nacimiento'].apply(lambda x: x.split('\\n')[2].replace('Ciudad:', ''))\n",
    "\n",
    "perfiles['hasta_mandato'] = perfiles['links_Periodo_de_Legislatura'].apply(lambda x: x.split('al')[1].replace(' ', ''))\n",
    "perfiles['desde_mandato'] = perfiles['links_Periodo_de_Legislatura'].apply(lambda x: x.split('al')[0].replace('Del', '').replace(' ', ''))\n",
    "\n",
    "perfiles['entidad_actividad'] = perfiles['links_Zona'].apply(lambda x: split(x, '\\n', 0).replace('Entidad:', ''))\n",
    "perfiles['entidad_actividad'] = perfiles['entidad_actividad'].apply(lambda x: x if 'N/A' not in x else '')\n",
    "perfiles['distrito_actividad'] = perfiles['links_Zona'].apply(lambda x: split(x, '\\n', 1).replace('Distrito:', '').split(' (')[0] if 'Distrito' in x else '')\n",
    "perfiles['municipalidad_actividad'] = perfiles['links_Zona'].apply(lambda x: split(split(x, '\\n', 1).replace('Distrito:', ''), ' (', 1).replace(')', '') if 'Distrito' in x else '')\n",
    "perfiles['cirscuncripcion_actividad'] = perfiles['links_Zona'].apply(lambda x: split(x, '\\n', 1).replace('Circunscripción:', '') if 'Circunscripción' in x else '')\n",
    "\n",
    "perfiles['cargo_genero_actividad'] = perfiles['links_Actividad'].apply(lambda x: x.split(' ')[0].replace(':', ''))\n",
    "perfiles['genero'] = perfiles['cargo_genero_actividad'].apply(lambda x: 'F' if x == 'Senadora' or x == 'Diputada' else 'M')\n",
    "perfiles['cargo'] = perfiles['cargo_genero_actividad'].apply(lambda x: 'Diputado' if x == 'Diputado' or x == 'Diputada' else 'Senador')\n",
    "\n",
    "perfiles['suplente_sil_id'] = perfiles['links_suplenteidhref'].apply(sacaId)"
   ]
  },
  {
   "cell_type": "markdown",
   "metadata": {},
   "source": [
    "## Actividad legislativa vigente (actividad)"
   ]
  },
  {
   "cell_type": "code",
   "execution_count": 59,
   "metadata": {},
   "outputs": [],
   "source": [
    "actividades = perfiles[['desde_mandato', 'hasta_mandato', 'cargo']]\n",
    "actividades.columns = ['desde', 'hasta', 'cargo']\n",
    "actividades['tipo'] = 'Legislativa'\n",
    "actividades['nivel_de_gobierno'] = 'Nacional'\n",
    "actividades['ambito_de_gobierno'] = 'Legislativo'\n",
    "actividades['personaId'] = perfiles.index\n",
    "actividades['contactoId'] = perfiles.index"
   ]
  },
  {
   "cell_type": "markdown",
   "metadata": {},
   "source": [
    "## Datos personales de actividad legislativa vigente (personas)"
   ]
  },
  {
   "cell_type": "code",
   "execution_count": 60,
   "metadata": {
    "scrolled": true
   },
   "outputs": [],
   "source": [
    "personas = perfiles[['nombre', 'apellido', 'fecha_nacimiento', 'entidad_nacimiento', 'ciudad_nacimiento', 'genero', 'sil_id']]"
   ]
  },
  {
   "cell_type": "markdown",
   "metadata": {},
   "source": [
    "## Contacto de actividad legislativa vigente (contacto)"
   ]
  },
  {
   "cell_type": "code",
   "execution_count": 61,
   "metadata": {},
   "outputs": [],
   "source": [
    "contactos = perfiles[['links_Ubicacion_en_la_camara', 'links_Correo_Electronico', 'links_Telefono_en_camara']]\n",
    "contactos.columns = ['direccion', 'correo_electronico', 'telefono_fijo']"
   ]
  },
  {
   "cell_type": "markdown",
   "metadata": {},
   "source": [
    "## Partido de actividad legislativa vigente (organizaciones)"
   ]
  },
  {
   "cell_type": "code",
   "execution_count": 62,
   "metadata": {
    "scrolled": true
   },
   "outputs": [],
   "source": [
    "organizaciones = perfiles[['links_Partido']].groupby('links_Partido').count().reset_index()\n",
    "organizaciones.columns = ['nombre_corto']\n",
    "organizaciones = organizaciones[organizaciones['nombre_corto'] != 'Sin Partido'].reset_index()\n",
    "organizaciones['tipo'] = 'Partido'\n",
    "organizaciones = organizaciones.iloc[:, -3:]\n",
    "\n",
    "actividades['organizacionId'] = perfiles['links_Partido'].apply(lambda x: organizaciones[organizaciones['nombre_corto'] == x].index.values[0] if x != 'Sin Partido' else None)\n",
    "perfiles['organizacionId'] = perfiles['links_Partido'].apply(lambda x: organizaciones[organizaciones['nombre_corto'] == x].index.values[0] if x != 'Sin Partido' else None)"
   ]
  },
  {
   "cell_type": "markdown",
   "metadata": {},
   "source": [
    "## Lista de actividad legislativa vigente (listas)"
   ]
  },
  {
   "cell_type": "code",
   "execution_count": 63,
   "metadata": {
    "scrolled": true
   },
   "outputs": [],
   "source": [
    "listas = perfiles[['links_Principio_de_eleccion', 'entidad_actividad', 'distrito_actividad', 'municipalidad_actividad', 'cirscuncripcion_actividad', 'organizacionId']].copy()\n",
    "listas.columns = ['principio_eleccion', 'entidad', 'distrito', 'municipalidad', 'circunscripcion', 'organizacionId']\n",
    "\n",
    "actividades['listaId'] = perfiles.index"
   ]
  },
  {
   "cell_type": "markdown",
   "metadata": {},
   "source": [
    "# Suplentes\n",
    "## Actividad  de suplente de legislador (actividad)"
   ]
  },
  {
   "cell_type": "code",
   "execution_count": 64,
   "metadata": {
    "scrolled": true
   },
   "outputs": [],
   "source": [
    "actividades_suplentes = perfiles[['desde_mandato', 'hasta_mandato']]\n",
    "actividades_suplentes.columns = ['desde', 'hasta']\n",
    "actividades_suplentes['tipo'] = 'Partidaria'\n",
    "actividades_suplentes['nivel_de_gobierno'] = 'Nacional'\n",
    "actividades_suplentes['ambito_de_gobierno'] = 'Legislativo'\n",
    "actividades_suplentes['cargo'] = 'Suplente de ' + perfiles['cargo'].str.lower()\n",
    "actividades_suplentes['personaId'] = len(perfiles) + perfiles.index\n",
    "actividades_suplentes['contactoId'] = len(perfiles) + perfiles.index\n",
    "actividades_suplentes['organizacionId'] = perfiles['links_Partido'].apply(lambda x: organizaciones[organizaciones['nombre_corto'] == x].index.values[0] if x != 'Sin Partido' else None)\n",
    "actividades_suplentes['listaId'] = perfiles.index\n",
    "\n",
    "actividades['suplenteId'] = len(perfiles) + perfiles.index\n",
    "\n",
    "actividades = pd.concat([actividades, actividades_suplentes]).reset_index().iloc[:, 1:]"
   ]
  },
  {
   "cell_type": "markdown",
   "metadata": {},
   "source": [
    "## Datos personales de suplente de legislador (personas)"
   ]
  },
  {
   "cell_type": "code",
   "execution_count": 65,
   "metadata": {
    "scrolled": true
   },
   "outputs": [],
   "source": [
    "personas_suplentes = perfiles[['suplente_nombre', 'suplente_apellido', 'genero', 'suplente_sil_id']]\n",
    "personas_suplentes.columns = ['nombre', 'apellido', 'genero', 'sil_id']\n",
    "\n",
    "personas = pd.concat([personas, personas_suplentes]).reset_index().iloc[:, 1:]"
   ]
  },
  {
   "cell_type": "markdown",
   "metadata": {},
   "source": [
    "# Actividad en comisiones\n",
    "## Preprocesamiento"
   ]
  },
  {
   "cell_type": "code",
   "execution_count": 66,
   "metadata": {
    "scrolled": true
   },
   "outputs": [],
   "source": [
    "fila_comisiones = pd.read_csv('data/fila_comisiones.csv')\n",
    "\n",
    "fila_comisiones['sil_id'] = fila_comisiones['url'].apply(lambda x: x.split('&Referencia=')[1]).astype(int)\n",
    "fila_comisiones = fila_comisiones[fila_comisiones['sil_id'].isin(perfiles['sil_id'])]\n",
    "fila_comisiones = fila_comisiones[fila_comisiones['estatus'] == 'Activo']\n",
    "\n",
    "def sacaDependencia(string):\n",
    "    if pd.isnull(string):\n",
    "        return ''\n",
    "    result = re.search('\\((.*)\\)', string)\n",
    "    if not result:\n",
    "        return None\n",
    "    return result.group(1).replace('C. ', '')\n",
    "\n",
    "fila_comisiones['dependencia'] = fila_comisiones['comision'].apply(sacaDependencia)\n",
    "fila_comisiones['comision_nombre'] = fila_comisiones['comision'].apply(lambda x: x.split(' (')[0])"
   ]
  },
  {
   "cell_type": "markdown",
   "metadata": {},
   "source": [
    "## Comisiones (organizaciones)"
   ]
  },
  {
   "cell_type": "code",
   "execution_count": 67,
   "metadata": {
    "scrolled": true
   },
   "outputs": [],
   "source": [
    "org_comisiones = fila_comisiones[['comision', 'comision_nombre']].groupby('comision').first().reset_index()\n",
    "org_comisiones.columns = ['nombre', 'nombre_corto']\n",
    "org_comisiones['tipo'] = 'Comisión'\n",
    "\n",
    "organizaciones = pd.concat([organizaciones, org_comisiones]).reset_index()\n",
    "organizaciones = organizaciones.iloc[:, -3:]"
   ]
  },
  {
   "cell_type": "markdown",
   "metadata": {},
   "source": [
    "## Pertenencia a comisiones (actividades)"
   ]
  },
  {
   "cell_type": "code",
   "execution_count": 68,
   "metadata": {
    "scrolled": true
   },
   "outputs": [],
   "source": [
    "actividad_comisiones = fila_comisiones[['fecha_inicial', 'fecha_inicial', 'puesto']]\n",
    "actividad_comisiones.columns = ['desde', 'hasta', 'cargo']\n",
    "actividad_comisiones['nivel_de_gobierno'] = 'Nacional'\n",
    "actividad_comisiones['ambito_de_gobierno'] = 'Legislativo'\n",
    "actividad_comisiones['tipo'] = 'Trabajo en Comisiones'\n",
    "actividad_comisiones['personaId'] = fila_comisiones['sil_id'].apply(lambda x: personas[personas['sil_id'] == x].index.values[0])\n",
    "\n",
    "actividad_comisiones['organizacionId'] = fila_comisiones['comision'].apply(lambda x: organizaciones[organizaciones['nombre'] == x].index.values[0])\n",
    "actividades = pd.concat([actividades, actividad_comisiones])"
   ]
  },
  {
   "cell_type": "markdown",
   "metadata": {},
   "source": [
    "# Actividad en órganos\n",
    "## Preprocesamiento"
   ]
  },
  {
   "cell_type": "code",
   "execution_count": 69,
   "metadata": {},
   "outputs": [],
   "source": [
    "fila_organos_de_gobierno = pd.read_csv('data/fila_organos_de_gobierno.csv')\n",
    "fila_organos_de_gobierno['sil_id'] = fila_organos_de_gobierno['url'].apply(lambda x: x.split('&Referencia=')[1]).astype(int)\n",
    "fila_organos_de_gobierno = fila_organos_de_gobierno[fila_organos_de_gobierno['sil_id'].isin(perfiles['sil_id'])]\n",
    "fila_organos_de_gobierno = fila_organos_de_gobierno[fila_organos_de_gobierno['estatus'] == 'Activo']\n",
    "fila_organos_de_gobierno['organo_nombre'] = fila_organos_de_gobierno['organo'].apply(lambda x: x.split(' L')[0].replace(',', '').strip())\n",
    "fila_organos_de_gobierno['dependencia'] = fila_organos_de_gobierno['organo_nombre'].apply(lambda x: 'Cámara de Senadores' if 'Cámara de Senadores' in x else 'Cámara de Diputados' if 'Cámara de Diputados' in x else 'Comisión Permanente' if 'Comisión Permanente' in x else '')\n",
    "fila_organos_de_gobierno['organo_nombre'] = fila_organos_de_gobierno['organo_nombre'].apply(lambda x: x.replace('Cámara de Senadores', '').replace('Cámara de Diputados', '').replace('Comisión Permanente', '').replace('de la', '').replace('-', '').strip())\n",
    "fila_organos_de_gobierno['organo_nombre_largo'] = fila_organos_de_gobierno['organo_nombre'] + ' - ' + fila_organos_de_gobierno['dependencia']"
   ]
  },
  {
   "cell_type": "markdown",
   "metadata": {},
   "source": [
    "## Pertenencia a órganos (actividades)"
   ]
  },
  {
   "cell_type": "code",
   "execution_count": 70,
   "metadata": {
    "scrolled": true
   },
   "outputs": [],
   "source": [
    "actividad_organos = fila_organos_de_gobierno[['fecha_inicial', 'fecha_inicial', 'puesto']]\n",
    "actividad_organos.columns = ['desde', 'hasta', 'cargo']\n",
    "actividad_organos['nivel_de_gobierno'] = 'Nacional'\n",
    "actividad_organos['ambito_de_gobierno'] = 'Legislativo'\n",
    "actividad_organos['tipo'] = 'Trabajo en Órganos'\n",
    "actividad_organos['personaId'] = fila_organos_de_gobierno['sil_id'].apply(lambda x: personas[personas['sil_id'] == x].index.values[0])"
   ]
  },
  {
   "cell_type": "markdown",
   "metadata": {},
   "source": [
    "## Órganos (organizaciones)"
   ]
  },
  {
   "cell_type": "code",
   "execution_count": 71,
   "metadata": {
    "scrolled": true
   },
   "outputs": [],
   "source": [
    "organos = fila_organos_de_gobierno[['organo_nombre', 'organo_nombre_largo']].groupby('organo_nombre_largo').first().reset_index()\n",
    "organos.columns = ['nombre', 'nombre_corto']\n",
    "organos['tipo'] = 'Órganos'\n",
    "organizaciones = pd.concat([organizaciones, organos]).reset_index()\n",
    "organizaciones = organizaciones.iloc[:, -3:]\n",
    "\n",
    "actividad_organos['organizacionId'] = fila_organos_de_gobierno['organo_nombre_largo'].apply(lambda x: organizaciones[organizaciones['nombre'] == x].index.values[0])\n",
    "actividades = pd.concat([actividades, actividad_organos])"
   ]
  },
  {
   "cell_type": "markdown",
   "metadata": {},
   "source": [
    "# Guardar"
   ]
  },
  {
   "cell_type": "code",
   "execution_count": 72,
   "metadata": {},
   "outputs": [],
   "source": [
    "personas.index.name = 'id'\n",
    "personas.to_csv('data/output/personas.csv')\n",
    "\n",
    "actividades.index.name = 'id'\n",
    "actividades.to_csv('data/output/actividades.csv')\n",
    "\n",
    "listas.index.name = 'id'\n",
    "listas.to_csv('data/output/listas.csv')\n",
    "\n",
    "organizaciones.index.name = 'id'\n",
    "organizaciones.to_csv('data/output/organizaciones.csv')\n",
    "\n",
    "contactos.index.name = 'id'\n",
    "contactos.to_csv('data/output/contactos.csv')"
   ]
  },
  {
   "cell_type": "code",
   "execution_count": 73,
   "metadata": {},
   "outputs": [],
   "source": [
    "personas = pd.read_csv('data/output/personas.csv')\n",
    "actividades = pd.read_csv('data/output/actividades.csv')\n",
    "\n",
    "actividades.drop(actividades[actividades['personaId'].isin(personas[personas['sil_id'].isnull()]['id'])].index, inplace=True)\n",
    "personas.drop(personas[personas['sil_id'].isnull()].index, inplace=True)\n",
    "\n",
    "personas.to_csv('data/output/personas.csv')\n",
    "actividades.to_csv('data/output/actividades.csv')"
   ]
  },
  {
   "cell_type": "markdown",
   "metadata": {},
   "source": [
    "# Estudios"
   ]
  },
  {
   "cell_type": "code",
   "execution_count": 74,
   "metadata": {
    "scrolled": true
   },
   "outputs": [],
   "source": [
    "academica = pd.read_csv('data/voluntarios/academica.csv')\n",
    "\n",
    "academica['sil_id'] = academica['sil_id']\n",
    "academica = academica.set_index('sil_id')\n",
    "\n",
    "academica = academica[academica['ACT. SECT. PRIV'].isna()]\n",
    "academica = academica[~academica[['Grado', 'Titulo', 'Institucion', 'SIGLAS']].isnull().all(axis=1)]\n",
    "\n",
    "personas['sil_id'] = personas['sil_id'].astype(int)\n",
    "personas = personas.set_index('sil_id')\n",
    "\n",
    "estudios_org = academica.join(personas).reset_index()[['id', 'hasta', 'Grado', 'Titulo', 'Institucion', 'SIGLAS']]\n",
    "estudios_org.columns = ['personaId', 'graduacion', 'grado', 'titulo', 'org-nombre', 'org-nombre-corto']\n",
    "estudios_org['org-nombre'] = estudios_org['org-nombre'].str.strip()\n",
    "estudios_org = estudios_org.fillna('')"
   ]
  },
  {
   "cell_type": "markdown",
   "metadata": {},
   "source": [
    "## Universidades (organizaciones)"
   ]
  },
  {
   "cell_type": "code",
   "execution_count": 75,
   "metadata": {
    "scrolled": true
   },
   "outputs": [],
   "source": [
    "org_educacion = estudios_org.groupby(['org-nombre', 'org-nombre-corto']).count().iloc[:, :0].reset_index()\n",
    "org_educacion.columns = ['nombre', 'nombre_corto']\n",
    "org_educacion['tipo'] = 'Educación'\n",
    "\n",
    "def matchOrg(x):\n",
    "    match = org_educacion[org_educacion['nombre'] == x['org-nombre']]\n",
    "    if len(match) > 0:\n",
    "        return match.index.values[0]\n",
    "    else:\n",
    "        match = org_educacion[org_educacion['nombre_corto'] == x['org-nombre-corto']]\n",
    "        if len(match) > 0:\n",
    "            return match.index.values[0]\n",
    "    return ''\n",
    "    \n",
    "estudios_org['organizacionId'] = estudios_org.apply(matchOrg, axis=1)\n",
    "estudios_org['organizacionId'] = estudios_org['organizacionId'].apply(lambda x: x+len(organizaciones) if x != 0 else None)\n",
    "estudios = estudios_org[['personaId', 'organizacionId', 'grado', 'titulo', 'graduacion']]\n",
    "\n",
    "organizaciones = pd.concat([organizaciones, org_educacion]).iloc[:, 1:]"
   ]
  },
  {
   "cell_type": "markdown",
   "metadata": {},
   "source": [
    "# Guardar"
   ]
  },
  {
   "cell_type": "code",
   "execution_count": 76,
   "metadata": {},
   "outputs": [],
   "source": [
    "organizaciones.index.name = 'id'\n",
    "organizaciones.to_csv('data/output/organizaciones.csv')\n",
    "\n",
    "estudios.index.name = 'id'\n",
    "estudios.to_csv('data/output/estudios.csv')"
   ]
  },
  {
   "cell_type": "markdown",
   "metadata": {},
   "source": [
    "# Actividades previas"
   ]
  },
  {
   "cell_type": "code",
   "execution_count": 77,
   "metadata": {},
   "outputs": [],
   "source": [
    "import pandas as pd\n",
    "import numpy as np\n",
    "\n",
    "administrativa = pd.read_csv('data/voluntarios/administrativa.csv')\n",
    "administrativa['tabla'] = 'administrativa'\n",
    "\n",
    "candidaturas = pd.read_csv('data/voluntarios/candidaturas.csv')\n",
    "candidaturas['tabla'] = 'candidaturas'\n",
    "\n",
    "docencia_investigacion = pd.read_csv('data/voluntarios/docencia_investigacion.csv')\n",
    "docencia_investigacion['tabla'] = 'docencia_investigacion'\n",
    "\n",
    "empresarial = pd.read_csv('data/voluntarios/empresarial.csv')\n",
    "empresarial['tabla'] = 'empresarial'\n",
    "\n",
    "legislativa = pd.read_csv('data/voluntarios/legislativa.csv')\n",
    "legislativa['tabla'] = 'legislativa'\n",
    "\n",
    "otros = pd.read_csv('data/voluntarios/otros.csv')\n",
    "otros['tabla'] = 'otros'\n",
    "\n",
    "partidaria = pd.read_csv('data/voluntarios/partidaria.csv')\n",
    "partidaria['tabla'] = 'partidaria'\n",
    "\n",
    "personas_base = pd.read_csv('data/output/personas.csv')\n",
    "actividades_base = pd.read_csv('data/output/actividades.csv')\n",
    "organizaciones_base = pd.read_csv('data/output/organizaciones.csv')\n",
    "contactos_base = pd.read_csv('data/output/contactos.csv')"
   ]
  },
  {
   "cell_type": "code",
   "execution_count": 78,
   "metadata": {},
   "outputs": [],
   "source": [
    "actividades_raw = pd.concat([administrativa, candidaturas, docencia_investigacion, empresarial, legislativa, otros, partidaria])\n",
    "actividades_raw = actividades_raw[actividades_raw['IGNORAR'].isnull()]\n",
    "actividades_raw = actividades_raw.reset_index().iloc[:, 1:].reset_index()"
   ]
  },
  {
   "cell_type": "code",
   "execution_count": 79,
   "metadata": {
    "scrolled": true
   },
   "outputs": [],
   "source": [
    "actividades = actividades_raw[['Cargo', 'Nivel de gobierno', 'Ámbito de gobierno', 'desde', 'hasta', 'tipo', 'tabla', 'pública', 'PUBLICA', 'PRIVADA', 'sil_id', 'index', 'actividad']]\n",
    "organizaciones = actividades_raw[['Organización', 'SIGLAS', 'PARTIDO', 'Área']]\n",
    "contactos = actividades_raw[['Ciudad donde ejerció el cargo', 'Estado donde ejerció el cargo']]"
   ]
  },
  {
   "cell_type": "code",
   "execution_count": 80,
   "metadata": {},
   "outputs": [],
   "source": [
    "def tipoActividad(x):\n",
    "    if x == 'candidaturas' or x == 'partidaria':\n",
    "        return 'Partidaria'\n",
    "    \n",
    "    if x == 'docencia_investigacion' or x == 'empresarial' or x == 'otros' or x == 'administrativa':\n",
    "        return 'Privada'\n",
    "    \n",
    "    if x == 'legislativa':\n",
    "        return 'Pública'\n",
    "\n",
    "actividades['tipo'] = actividades['tabla'].apply(tipoActividad)\n",
    "actividades['tipo'] = actividades.apply(lambda x: 'Pública' if x['pública'] == 'X' or x['pública'] == 'x' else x['tipo'], axis=1)\n",
    "actividades['tipo'] = actividades.apply(lambda x: 'Pública' if x['PUBLICA'] == 'X' or x['PUBLICA'] == 'x' else x['tipo'], axis=1)\n",
    "actividades['tipo'] = actividades.apply(lambda x: 'Privada' if x['PRIVADA'] == 'X' or x['PRIVADA'] == 'x' else x['tipo'], axis=1)\n",
    "\n",
    "personas_base['sil_id'] = personas_base['sil_id'].astype(int)\n",
    "personas_base = personas_base.set_index('sil_id')\n",
    "\n",
    "actividades = actividades[~actividades['Cargo'].isnull()]\n",
    "\n",
    "actividades = actividades.set_index('sil_id').join(personas_base).reset_index()[['Cargo', 'tipo', 'Nivel de gobierno', 'Ámbito de gobierno', 'desde', 'hasta', 'index', 'id', 'actividad']]\n",
    "actividades.columns = ['cargo', 'tipo', 'nivel_de_gobierno', 'ambito_de_gobierno', 'desde', 'hasta', 'index', 'personaId', 'actividad']\n",
    "\n",
    "actividades = actividades.dropna(subset=['personaId'])"
   ]
  },
  {
   "cell_type": "code",
   "execution_count": 81,
   "metadata": {},
   "outputs": [],
   "source": [
    "contactos = contactos.dropna(subset=['Ciudad donde ejerció el cargo', 'Estado donde ejerció el cargo'], how='all').reset_index()\n",
    "contactos.columns = ['index', 'ciudad', 'estado']"
   ]
  },
  {
   "cell_type": "code",
   "execution_count": 82,
   "metadata": {},
   "outputs": [],
   "source": [
    "def getIndex(x):\n",
    "    indices = contactos[contactos['index'] == x.name].index.values\n",
    "    if len(indices) >= 1:\n",
    "        return indices[0]\n",
    "    else:\n",
    "        return np.nan\n",
    "\n",
    "organizaciones['contactoId'] = organizaciones.apply(getIndex, axis=1)\n",
    "organizaciones['contactoId'] = organizaciones['contactoId'].apply(lambda x: np.nan if pd.isnull(x) else x + len(contactos_base))\n",
    "\n",
    "contactos_f = pd.concat([contactos_base, contactos]).reset_index()"
   ]
  },
  {
   "cell_type": "code",
   "execution_count": 83,
   "metadata": {},
   "outputs": [],
   "source": [
    "organizaciones['Organización'] = organizaciones.apply(lambda x: x['Organización'] if pd.isnull(x['PARTIDO']) else x['PARTIDO'], axis=1)\n",
    "organizaciones = organizaciones[['Organización', 'SIGLAS', 'contactoId']]\n",
    "organizaciones.columns = ['nombre', 'nombre_corto', 'contactoId']\n",
    "organizaciones = organizaciones.dropna(how='all').reset_index()"
   ]
  },
  {
   "cell_type": "code",
   "execution_count": 84,
   "metadata": {},
   "outputs": [],
   "source": [
    "def addInd(group):\n",
    "    group[1][1]['org_id'] = group[0]\n",
    "    return group[1][1]\n",
    "organizaciones = organizaciones.fillna('')\n",
    "organizaciones = pd.concat([addInd(x) for x in enumerate(organizaciones.groupby(['nombre', 'nombre_corto']))])"
   ]
  },
  {
   "cell_type": "code",
   "execution_count": 85,
   "metadata": {
    "scrolled": true
   },
   "outputs": [],
   "source": [
    "def getIndex(x):\n",
    "    org_id = organizaciones[organizaciones['index'] == int(x['index'])]['org_id'].values\n",
    "    if len(org_id) >= 1:\n",
    "        return org_id[0]\n",
    "    else:\n",
    "        return np.nan\n",
    "\n",
    "actividades['organizacionId'] = actividades.apply(getIndex, axis=1)\n",
    "\n",
    "organizaciones = organizaciones.groupby(['nombre', 'nombre_corto']).first().reset_index()"
   ]
  },
  {
   "cell_type": "code",
   "execution_count": 86,
   "metadata": {
    "scrolled": false
   },
   "outputs": [],
   "source": [
    "actividades['organizacionId'] = actividades['organizacionId'].apply(lambda x: np.nan if pd.isnull(x) else x + len(organizaciones_base))\n",
    "\n",
    "organizaciones_f = pd.concat([organizaciones_base, organizaciones]).reset_index()\n",
    "actividades_f = pd.concat([actividades_base, actividades]).reset_index()"
   ]
  },
  {
   "cell_type": "code",
   "execution_count": null,
   "metadata": {},
   "outputs": [],
   "source": [
    "ejecutivo = ['EJEcutivo', 'Ejecutivo', 'Ejecutivo ', 'Ejecutivo/Autonomo', 'ejecutivo', 'ejecutivo ', 'ejecuttivo']\n",
    "legislativo = ['Legislativo', 'Legisltivo', 'legislativo', 'legisltivo']\n",
    "judicial = ['Judicial', 'Judicial ', 'Juridico', 'judicial', 'jurídico']\n",
    "autonomo = ['Auronomo ', 'Autonomo', 'Organismo Autónomo', 'Organismo autónomo', 'Organismo autónomo ', 'organismo autónomo', 'organismos autonomos', 'organismos autónomos', 'organización autonoma ']\n",
    "\n",
    "actividades['ambito_de_gobierno'] = actividades['ambito_de_gobierno'].apply(lambda x: 1 if x in ejecutivo else 2 if x in legislativo else 3 if x in judicial else 4 if x in autonomo else x)\n",
    "\n",
    "nacional = ['Nacional', 'nacional', 'nacional ']\n",
    "estatal = ['Estadal', 'Estatal', 'Estatal ', 'estatal', 'estudual', 'estudual ']\n",
    "municipal = ['Municipal', 'Munipal', 'mucipal', 'mucipal ', 'municiapl', 'municipal', 'municipal ']\n",
    "\n",
    "actividades['nivel_de_gobierno'] = actividades['nivel_de_gobierno'].apply(lambda x: 1 if x in nacional else 2 if x in estatal else 3 if x in municipal else x)"
   ]
  },
  {
   "cell_type": "markdown",
   "metadata": {},
   "source": [
    "# Guardar"
   ]
  },
  {
   "cell_type": "code",
   "execution_count": 87,
   "metadata": {},
   "outputs": [],
   "source": [
    "contactos_f.index.name = 'id'\n",
    "contactos_f.to_csv('data/output/contactos.csv')\n",
    "\n",
    "organizaciones_f.index.name = 'id'\n",
    "organizaciones_f.to_csv('data/output/organizaciones.csv')\n",
    "\n",
    "actividades_f.index.name = 'id'\n",
    "actividades_f.to_csv('data/output/actividades.csv')"
   ]
  },
  {
   "cell_type": "markdown",
   "metadata": {},
   "source": [
    "# Abrir, limpiar y guardar"
   ]
  },
  {
   "cell_type": "code",
   "execution_count": 88,
   "metadata": {},
   "outputs": [],
   "source": [
    "personas = pd.read_csv('data/output/personas.csv')\n",
    "personas[['id', 'apellido', 'ciudad_nacimiento', 'entidad_nacimiento', 'fecha_nacimiento', 'genero', 'nombre', 'sil_id']].to_csv('data/output/personas.csv', index=False)\n",
    "\n",
    "actividades = pd.read_csv('data/output/actividades.csv')\n",
    "actividades[['id', 'ambito_de_gobierno', 'cargo', 'contactoId', 'desde', 'hasta', 'listaId', 'nivel_de_gobierno', 'organizacionId', 'personaId', 'suplenteId', 'tipo']].to_csv('data/output/actividades.csv', index=False)\n",
    "\n",
    "listas = pd.read_csv('data/output/listas.csv')\n",
    "listas[['id', 'principio_eleccion', 'entidad', 'distrito', 'municipalidad', 'circunscripcion', 'organizacionId']].to_csv('data/output/listas.csv', index=False)\n",
    "\n",
    "organizaciones = pd.read_csv('data/output/organizaciones.csv')\n",
    "organizaciones[['id', 'contactoId', 'nombre', 'nombre_corto', 'tipo']].to_csv('data/output/organizaciones.csv', index=False)\n",
    "\n",
    "contactos = pd.read_csv('data/output/contactos.csv')\n",
    "contactos[['id', 'ciudad', 'correo_electronico', 'direccion', 'estado', 'telefono_fijo']].to_csv('data/output/contactos.csv', index=False)\n",
    "\n",
    "estudios = pd.read_csv('data/output/estudios.csv')\n",
    "estudios[['id', 'personaId', 'organizacionId', 'grado', 'titulo', 'graduacion']].to_csv('data/output/estudios.csv', index=False)"
   ]
  }
 ],
 "metadata": {
  "kernelspec": {
   "display_name": "Python 3",
   "language": "python",
   "name": "python3"
  },
  "language_info": {
   "codemirror_mode": {
    "name": "ipython",
    "version": 3
   },
   "file_extension": ".py",
   "mimetype": "text/x-python",
   "name": "python",
   "nbconvert_exporter": "python",
   "pygments_lexer": "ipython3",
   "version": "3.7.0"
  }
 },
 "nbformat": 4,
 "nbformat_minor": 2
}
